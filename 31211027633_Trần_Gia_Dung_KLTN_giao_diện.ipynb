{
  "nbformat": 4,
  "nbformat_minor": 0,
  "metadata": {
    "colab": {
      "provenance": []
    },
    "kernelspec": {
      "name": "python3",
      "display_name": "Python 3"
    },
    "language_info": {
      "name": "python"
    }
  },
  "cells": [
    {
      "cell_type": "code",
      "execution_count": null,
      "metadata": {
        "colab": {
          "base_uri": "https://localhost:8080/"
        },
        "id": "U30-yMYGf0H-",
        "outputId": "d34d7975-fc4c-4b7d-b7d3-9611dae00369"
      },
      "outputs": [
        {
          "output_type": "stream",
          "name": "stdout",
          "text": [
            "Mounted at /content/gdrive\n"
          ]
        }
      ],
      "source": [
        "0.## Kết nối Google Drive\n",
        "from google.colab import drive\n",
        "drive.mount('/content/gdrive', force_remount = True)\n",
        "folder = '/content/gdrive/My Drive/KLTN'"
      ]
    },
    {
      "cell_type": "markdown",
      "source": [
        "#THƯ VIỆN CẦN THIẾT PHỤC VỤ CHO BÀI TOÁN"
      ],
      "metadata": {
        "id": "3cY43koHaWLY"
      }
    },
    {
      "cell_type": "code",
      "source": [
        "!pip install gradio\n"
      ],
      "metadata": {
        "colab": {
          "base_uri": "https://localhost:8080/"
        },
        "id": "wM8KuyoMgMFC",
        "outputId": "b23db32c-da31-4e52-ae63-6a0eea0ccbfb"
      },
      "execution_count": null,
      "outputs": [
        {
          "output_type": "stream",
          "name": "stdout",
          "text": [
            "Requirement already satisfied: gradio in /usr/local/lib/python3.10/dist-packages (5.3.0)\n",
            "Requirement already satisfied: aiofiles<24.0,>=22.0 in /usr/local/lib/python3.10/dist-packages (from gradio) (23.2.1)\n",
            "Requirement already satisfied: anyio<5.0,>=3.0 in /usr/local/lib/python3.10/dist-packages (from gradio) (3.7.1)\n",
            "Requirement already satisfied: fastapi<1.0,>=0.115.2 in /usr/local/lib/python3.10/dist-packages (from gradio) (0.115.3)\n",
            "Requirement already satisfied: ffmpy in /usr/local/lib/python3.10/dist-packages (from gradio) (0.4.0)\n",
            "Requirement already satisfied: gradio-client==1.4.2 in /usr/local/lib/python3.10/dist-packages (from gradio) (1.4.2)\n",
            "Requirement already satisfied: httpx>=0.24.1 in /usr/local/lib/python3.10/dist-packages (from gradio) (0.27.2)\n",
            "Requirement already satisfied: huggingface-hub>=0.25.1 in /usr/local/lib/python3.10/dist-packages (from gradio) (0.26.1)\n",
            "Requirement already satisfied: jinja2<4.0 in /usr/local/lib/python3.10/dist-packages (from gradio) (3.1.4)\n",
            "Requirement already satisfied: markupsafe~=2.0 in /usr/local/lib/python3.10/dist-packages (from gradio) (2.1.5)\n",
            "Requirement already satisfied: numpy<3.0,>=1.0 in /usr/local/lib/python3.10/dist-packages (from gradio) (1.26.4)\n",
            "Requirement already satisfied: orjson~=3.0 in /usr/local/lib/python3.10/dist-packages (from gradio) (3.10.10)\n",
            "Requirement already satisfied: packaging in /usr/local/lib/python3.10/dist-packages (from gradio) (24.1)\n",
            "Requirement already satisfied: pandas<3.0,>=1.0 in /usr/local/lib/python3.10/dist-packages (from gradio) (2.2.2)\n",
            "Requirement already satisfied: pillow<11.0,>=8.0 in /usr/local/lib/python3.10/dist-packages (from gradio) (10.4.0)\n",
            "Requirement already satisfied: pydantic>=2.0 in /usr/local/lib/python3.10/dist-packages (from gradio) (2.9.2)\n",
            "Requirement already satisfied: pydub in /usr/local/lib/python3.10/dist-packages (from gradio) (0.25.1)\n",
            "Requirement already satisfied: python-multipart>=0.0.9 in /usr/local/lib/python3.10/dist-packages (from gradio) (0.0.12)\n",
            "Requirement already satisfied: pyyaml<7.0,>=5.0 in /usr/local/lib/python3.10/dist-packages (from gradio) (6.0.2)\n",
            "Requirement already satisfied: ruff>=0.2.2 in /usr/local/lib/python3.10/dist-packages (from gradio) (0.7.0)\n",
            "Requirement already satisfied: semantic-version~=2.0 in /usr/local/lib/python3.10/dist-packages (from gradio) (2.10.0)\n",
            "Requirement already satisfied: starlette<1.0,>=0.40.0 in /usr/local/lib/python3.10/dist-packages (from gradio) (0.41.0)\n",
            "Requirement already satisfied: tomlkit==0.12.0 in /usr/local/lib/python3.10/dist-packages (from gradio) (0.12.0)\n",
            "Requirement already satisfied: typer<1.0,>=0.12 in /usr/local/lib/python3.10/dist-packages (from gradio) (0.12.5)\n",
            "Requirement already satisfied: typing-extensions~=4.0 in /usr/local/lib/python3.10/dist-packages (from gradio) (4.12.2)\n",
            "Requirement already satisfied: uvicorn>=0.14.0 in /usr/local/lib/python3.10/dist-packages (from gradio) (0.32.0)\n",
            "Requirement already satisfied: fsspec in /usr/local/lib/python3.10/dist-packages (from gradio-client==1.4.2->gradio) (2024.6.1)\n",
            "Requirement already satisfied: websockets<13.0,>=10.0 in /usr/local/lib/python3.10/dist-packages (from gradio-client==1.4.2->gradio) (12.0)\n",
            "Requirement already satisfied: idna>=2.8 in /usr/local/lib/python3.10/dist-packages (from anyio<5.0,>=3.0->gradio) (3.10)\n",
            "Requirement already satisfied: sniffio>=1.1 in /usr/local/lib/python3.10/dist-packages (from anyio<5.0,>=3.0->gradio) (1.3.1)\n",
            "Requirement already satisfied: exceptiongroup in /usr/local/lib/python3.10/dist-packages (from anyio<5.0,>=3.0->gradio) (1.2.2)\n",
            "Requirement already satisfied: certifi in /usr/local/lib/python3.10/dist-packages (from httpx>=0.24.1->gradio) (2024.8.30)\n",
            "Requirement already satisfied: httpcore==1.* in /usr/local/lib/python3.10/dist-packages (from httpx>=0.24.1->gradio) (1.0.6)\n",
            "Requirement already satisfied: h11<0.15,>=0.13 in /usr/local/lib/python3.10/dist-packages (from httpcore==1.*->httpx>=0.24.1->gradio) (0.14.0)\n",
            "Requirement already satisfied: filelock in /usr/local/lib/python3.10/dist-packages (from huggingface-hub>=0.25.1->gradio) (3.16.1)\n",
            "Requirement already satisfied: requests in /usr/local/lib/python3.10/dist-packages (from huggingface-hub>=0.25.1->gradio) (2.32.3)\n",
            "Requirement already satisfied: tqdm>=4.42.1 in /usr/local/lib/python3.10/dist-packages (from huggingface-hub>=0.25.1->gradio) (4.66.5)\n",
            "Requirement already satisfied: python-dateutil>=2.8.2 in /usr/local/lib/python3.10/dist-packages (from pandas<3.0,>=1.0->gradio) (2.8.2)\n",
            "Requirement already satisfied: pytz>=2020.1 in /usr/local/lib/python3.10/dist-packages (from pandas<3.0,>=1.0->gradio) (2024.2)\n",
            "Requirement already satisfied: tzdata>=2022.7 in /usr/local/lib/python3.10/dist-packages (from pandas<3.0,>=1.0->gradio) (2024.2)\n",
            "Requirement already satisfied: annotated-types>=0.6.0 in /usr/local/lib/python3.10/dist-packages (from pydantic>=2.0->gradio) (0.7.0)\n",
            "Requirement already satisfied: pydantic-core==2.23.4 in /usr/local/lib/python3.10/dist-packages (from pydantic>=2.0->gradio) (2.23.4)\n",
            "Requirement already satisfied: click>=8.0.0 in /usr/local/lib/python3.10/dist-packages (from typer<1.0,>=0.12->gradio) (8.1.7)\n",
            "Requirement already satisfied: shellingham>=1.3.0 in /usr/local/lib/python3.10/dist-packages (from typer<1.0,>=0.12->gradio) (1.5.4)\n",
            "Requirement already satisfied: rich>=10.11.0 in /usr/local/lib/python3.10/dist-packages (from typer<1.0,>=0.12->gradio) (13.9.2)\n",
            "Requirement already satisfied: six>=1.5 in /usr/local/lib/python3.10/dist-packages (from python-dateutil>=2.8.2->pandas<3.0,>=1.0->gradio) (1.16.0)\n",
            "Requirement already satisfied: markdown-it-py>=2.2.0 in /usr/local/lib/python3.10/dist-packages (from rich>=10.11.0->typer<1.0,>=0.12->gradio) (3.0.0)\n",
            "Requirement already satisfied: pygments<3.0.0,>=2.13.0 in /usr/local/lib/python3.10/dist-packages (from rich>=10.11.0->typer<1.0,>=0.12->gradio) (2.18.0)\n",
            "Requirement already satisfied: charset-normalizer<4,>=2 in /usr/local/lib/python3.10/dist-packages (from requests->huggingface-hub>=0.25.1->gradio) (3.4.0)\n",
            "Requirement already satisfied: urllib3<3,>=1.21.1 in /usr/local/lib/python3.10/dist-packages (from requests->huggingface-hub>=0.25.1->gradio) (2.2.3)\n",
            "Requirement already satisfied: mdurl~=0.1 in /usr/local/lib/python3.10/dist-packages (from markdown-it-py>=2.2.0->rich>=10.11.0->typer<1.0,>=0.12->gradio) (0.1.2)\n"
          ]
        }
      ]
    },
    {
      "cell_type": "code",
      "source": [
        "import gradio as gr\n",
        "import numpy as np\n",
        "import pandas as pd\n",
        "\n",
        "from sklearn.linear_model import LinearRegression\n",
        "from sklearn.model_selection import TimeSeriesSplit\n",
        "from sklearn.preprocessing import MinMaxScaler\n",
        "from sklearn.metrics import mean_squared_error, r2_score\n",
        "import tensorflow as tf\n",
        "import matplotlib.pyplot as plt\n",
        "from keras. callbacks import EarlyStopping"
      ],
      "metadata": {
        "id": "_yJXRhcngBEb"
      },
      "execution_count": null,
      "outputs": []
    },
    {
      "cell_type": "markdown",
      "source": [
        "#CHUẨN BỊ DỮ LIỆU CHO MÔ HÌNH"
      ],
      "metadata": {
        "id": "yPx4H51hadfv"
      }
    },
    {
      "cell_type": "code",
      "source": [
        "df=pd.read_csv(folder+ '/Tesla.csv')\n",
        "df.shape"
      ],
      "metadata": {
        "id": "z9qRmu1-gaAM",
        "colab": {
          "base_uri": "https://localhost:8080/"
        },
        "outputId": "d2303d43-2630-46e9-9796-a620d5d4e15d"
      },
      "execution_count": null,
      "outputs": [
        {
          "output_type": "execute_result",
          "data": {
            "text/plain": [
              "(1692, 7)"
            ]
          },
          "metadata": {},
          "execution_count": 59
        }
      ]
    },
    {
      "cell_type": "code",
      "source": [
        "# Lấy ra các đặc trưng và chuẩn hóa dữ liệu\n",
        "features = df[['Open', 'High', 'Low', 'Adj Close', 'Volume']].values\n",
        "scaler = MinMaxScaler(feature_range=(0, 1))\n",
        "scaled_features = scaler.fit_transform(features)\n",
        "\n",
        "# Hàm tạo tập dữ liệu cho mô hình (time step = 30)\n",
        "def create_dataset(data, time_step=30):\n",
        "    X, Y = [], []\n",
        "    for i in range(len(data) - time_step):\n",
        "        X.append(data[i:(i + time_step), :])  # Chọn tất cả các cột đặc trưng\n",
        "        Y.append(data[i + time_step, 3])  # Cột 3 là giá đóng cửa\n",
        "    return np.array(X), np.array(Y)\n",
        "\n",
        "# Thiết lập số bước thời gian\n",
        "time_step = 30\n",
        "X, Y = create_dataset(scaled_features, time_step)"
      ],
      "metadata": {
        "id": "BKRtAtu-ghl6"
      },
      "execution_count": null,
      "outputs": []
    },
    {
      "cell_type": "markdown",
      "source": [
        "#HÀM KHỞI TẠO MÔ HÌNH LR, RNN, LSTM"
      ],
      "metadata": {
        "id": "XBoFG3tcakus"
      }
    },
    {
      "cell_type": "code",
      "source": [
        "# Hàm mô hình Linear Regression\n",
        "def linear_regression_model(X_train, Y_train, X_test, Y_test):\n",
        "    model = LinearRegression()\n",
        "    model.fit(X_train, Y_train)\n",
        "    Y_pred = model.predict(X_test)\n",
        "    mse = mean_squared_error(Y_test, Y_pred)\n",
        "    r2 = r2_score(Y_test, Y_pred)\n",
        "    return Y_pred, mse, r2\n"
      ],
      "metadata": {
        "id": "9HHJWr86gncy"
      },
      "execution_count": null,
      "outputs": []
    },
    {
      "cell_type": "code",
      "source": [
        "# Mô hình RNN\n",
        "def rnn_model(X_train, Y_train, X_test, Y_test):\n",
        "    X_train_reshaped = X_train.reshape((X_train.shape[0], X_train.shape[1], X_train.shape[2]))\n",
        "    X_test_reshaped = X_test.reshape((X_test.shape[0], X_test.shape[1], X_test.shape[2]))\n",
        "\n",
        "    model = tf.keras.Sequential([\n",
        "        tf.keras.layers.SimpleRNN(50, activation='relu', return_sequences=True,\n",
        "                                   input_shape=(X_train_reshaped.shape[1], X_train_reshaped.shape[2])),\n",
        "        tf.keras.layers.Dropout(0.2),\n",
        "        tf.keras.layers.SimpleRNN(50, activation='relu'),\n",
        "        tf.keras.layers.Dropout(0.2),\n",
        "        tf.keras.layers.Dense(1)\n",
        "    ])\n",
        "\n",
        "    model.compile(optimizer='adam', loss='mse')\n",
        "  # Sử dụng EarlyStopping\n",
        "    early_stopping = EarlyStopping(monitor='val_loss', patience=10, restore_best_weights=True)\n",
        "\n",
        "    model.fit(X_train_reshaped, Y_train, epochs=50, batch_size=64, verbose=0,\n",
        "              validation_split=0.2, callbacks=[early_stopping])\n",
        "    Y_pred = model.predict(X_test_reshaped)\n",
        "    mse = mean_squared_error(Y_test, Y_pred)\n",
        "    r2 = r2_score(Y_test, Y_pred)\n",
        "    return Y_pred, mse, r2\n"
      ],
      "metadata": {
        "id": "ERCriPBggsAv"
      },
      "execution_count": null,
      "outputs": []
    },
    {
      "cell_type": "code",
      "source": [
        "# Mô hình LSTM\n",
        "def lstm_model(X_train, Y_train, X_test, Y_test):\n",
        "    X_train_reshaped = X_train.reshape((X_train.shape[0], X_train.shape[1], X_train.shape[2]))\n",
        "    X_test_reshaped = X_test.reshape((X_test.shape[0], X_test.shape[1], X_test.shape[2]))\n",
        "\n",
        "    model = tf.keras.Sequential([\n",
        "        tf.keras.layers.LSTM(50, activation='relu', return_sequences=True,\n",
        "                             input_shape=(X_train_reshaped.shape[1], X_train_reshaped.shape[2])),\n",
        "        tf.keras.layers.Dropout(0.2),\n",
        "        tf.keras.layers.LSTM(50, activation='relu'),\n",
        "        tf.keras.layers.Dropout(0.2),\n",
        "        tf.keras.layers.Dense(1)\n",
        "    ])\n",
        "    model.compile(optimizer='adam', loss='mse')\n",
        "    # Sử dụng EarlyStopping\n",
        "    early_stopping = EarlyStopping(monitor='val_loss', patience=10, restore_best_weights=True)\n",
        "\n",
        "    model.fit(X_train_reshaped, Y_train, epochs=50, batch_size=64, verbose=0,\n",
        "              validation_split=0.2, callbacks=[early_stopping])\n",
        "    Y_pred = model.predict(X_test_reshaped)\n",
        "\n",
        "    mse = mean_squared_error(Y_test, Y_pred)\n",
        "    r2 = r2_score(Y_test, Y_pred)\n",
        "    return Y_pred, mse, r2"
      ],
      "metadata": {
        "id": "tvthwHyQgvFw"
      },
      "execution_count": null,
      "outputs": []
    },
    {
      "cell_type": "markdown",
      "source": [
        "# CHIA TÁCH, HUẤN LUYỆN VÀ ĐÁNH GIÁ HIỆU SUẤT"
      ],
      "metadata": {
        "id": "bWmFYgSOayVX"
      }
    },
    {
      "cell_type": "code",
      "source": [
        "def time_series_split(model_type):\n",
        "    tscv = TimeSeriesSplit(n_splits=5)  # Chia dữ liệu thành 5 lần gập\n",
        "    mse_list = []\n",
        "    r2_list = []\n",
        "    plt.figure(figsize=(10, 6))\n",
        "    for fold, (train_index, test_index) in enumerate(tscv.split(X)):\n",
        "        X_train, X_test = X[train_index], X[test_index]\n",
        "        Y_train, Y_test = Y[train_index], Y[test_index]\n",
        "        if model_type == \"Linear Regression\":\n",
        "            Y_pred, mse, r2 = linear_regression_model(X_train, Y_train, X_test, Y_test)\n",
        "        elif model_type == \"LSTM\":\n",
        "            Y_pred, mse, r2 = lstm_model(X_train, Y_train, X_test, Y_test)\n",
        "        elif model_type == \"RNN\":\n",
        "            Y_pred, mse, r2 = rnn_model(X_train, Y_train, X_test, Y_test)\n",
        "        mse_list.append(mse)\n",
        "        r2_list.append(r2)\n",
        "        # Đảo ngược chuẩn hóa để hiển thị kết quả thực tế\n",
        "        Y_test_actual = scaler.inverse_transform(np.concatenate((X_test[:, -1, :-1], Y_test.reshape(-1, 1)), axis=1))[:, -1]\n",
        "        Y_pred_actual = scaler.inverse_transform(np.concatenate((X_test[:, -1, :-1], Y_pred), axis=1))[:, -1]\n",
        "        # Vẽ đồ thị cho fold cuối cùng (trong vòng lặp)\n",
        "        if fold == tscv.get_n_splits() - 1:  # Chỉ vẽ ở lần chia cuối cùng\n",
        "          plt.plot(Y_test_actual, label=\"Giá trị thực\", color='blue')\n",
        "          plt.plot(Y_pred_actual, label=\"Dự đoán\", color='red')\n",
        "          plt.title(f\"Kết quả dự đoán với mô hình {model_type}\")\n",
        "          plt.xlabel(\"Thời gian\")\n",
        "          plt.ylabel(\"Giá trị\")\n",
        "          plt.legend()\n",
        "    mse_avg = np.mean(mse_list)\n",
        "    r2_avg = np.mean(r2_list)\n",
        "    plt.savefig('plot.png')\n",
        "    plt.close()  # Đóng để không làm lộn xộn các biểu đồ sau này\n",
        "    return mse_avg, r2_avg, 'plot.png'\n"
      ],
      "metadata": {
        "id": "sgrERKz42kdE"
      },
      "execution_count": null,
      "outputs": []
    },
    {
      "cell_type": "markdown",
      "source": [
        "#THIẾT LẬP GIAO DIỆN"
      ],
      "metadata": {
        "id": "1LO_Xg9Abiis"
      }
    },
    {
      "cell_type": "code",
      "source": [
        "# --- Thiết lập giao diện Gradio ---\n",
        "def interface(model_type):\n",
        "    mse_avg, r2_avg, plot_path = time_series_split(model_type)\n",
        "    return mse_avg, r2_avg, plot_path"
      ],
      "metadata": {
        "id": "wHTKTzybfH6V"
      },
      "execution_count": null,
      "outputs": []
    },
    {
      "cell_type": "code",
      "source": [
        "# Tạo ứng dụng Gradio\n",
        "demo = gr.Interface(\n",
        "    fn=interface,\n",
        "    inputs=gr.Radio([\"Linear Regression\", \"LSTM\", \"RNN\"], label=\"Chọn mô hình\"),\n",
        "    outputs=[gr.Number(label=\"MSE trung bình\"), gr.Number(label=\"R-squared trung bình\"), gr.Image(label=\"Đồ thị dự đoán\")],\n",
        "    title=\"So sánh các mô hình dự đoán với TimeSeriesSplit\",\n",
        "    description=\"Chọn một mô hình để xem kết quả dự đoán và các chỉ số đánh giá\"\n",
        ")\n",
        "\n",
        "demo.launch()"
      ],
      "metadata": {
        "colab": {
          "base_uri": "https://localhost:8080/",
          "height": 645
        },
        "id": "FYvOrAo_fJ0L",
        "outputId": "a48fa034-ef2f-4d36-bc23-21d8a040d9ef"
      },
      "execution_count": null,
      "outputs": [
        {
          "output_type": "stream",
          "name": "stdout",
          "text": [
            "Running Gradio in a Colab notebook requires sharing enabled. Automatically setting `share=True` (you can turn this off by setting `share=False` in `launch()` explicitly).\n",
            "\n",
            "Colab notebook detected. To show errors in colab notebook, set debug=True in launch()\n",
            "* Running on public URL: https://6527f8fcfee6a61a5f.gradio.live\n",
            "\n",
            "This share link expires in 72 hours. For free permanent hosting and GPU upgrades, run `gradio deploy` from the terminal in the working directory to deploy to Hugging Face Spaces (https://huggingface.co/spaces)\n"
          ]
        },
        {
          "output_type": "display_data",
          "data": {
            "text/plain": [
              "<IPython.core.display.HTML object>"
            ],
            "text/html": [
              "<div><iframe src=\"https://6527f8fcfee6a61a5f.gradio.live\" width=\"100%\" height=\"500\" allow=\"autoplay; camera; microphone; clipboard-read; clipboard-write;\" frameborder=\"0\" allowfullscreen></iframe></div>"
            ]
          },
          "metadata": {}
        },
        {
          "output_type": "execute_result",
          "data": {
            "text/plain": []
          },
          "metadata": {},
          "execution_count": 71
        }
      ]
    }
  ]
}